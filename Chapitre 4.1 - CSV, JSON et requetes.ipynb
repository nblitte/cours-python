{
 "cells": [
  {
   "cell_type": "markdown",
   "metadata": {},
   "source": [
    "# Chapitre 4.1 - Les fichiers CSV, JSON et les requêtes"
   ]
  },
  {
   "cell_type": "markdown",
   "metadata": {},
   "source": [
    "## Le format CSV\n",
    "\n",
    "Un fichier CSV est un fichier de tableau simplifié au maximum :\n",
    "- le fichier est encodé en plein texte, il peut être lu par un éditeur de texte lambda\n",
    "- le fichier utilise un séparateur de colonnes (usuellement une virgule, un point-virgule ou une tabulation)\n",
    "- le fichier utilise une ligne par ligne de tableur\n",
    "\n",
    "Exemple : [Les 1000 premiers numéros du Gaulois en statistiques](./data/csv/gaulois.csv) (grâce à la [BNF](http://api.bnf.fr/m%C3%A9tadonn%C3%A9es-quantitatives-de-la-presse-ancienne-xixe-xxe-si%C3%A8cles#chapitre3) )"
   ]
  },
  {
   "cell_type": "markdown",
   "metadata": {},
   "source": [
    "## Les Packages\n",
    "\n",
    "Python est fait de nombreuses fonctions de bases. Nous avons vu par exemple qu'il était possible d'utiliser facilement les fonctions `len()` ou encore `print()`. Mais Python possède aussi des `packages` (le nom des librairies et bibliothèques en Python) par défaut.\n",
    "\n",
    "Un package est un ensemble de modules comportant des outils tels que des fonctions et qui peut être assez simplement importé. Par exemple, si je voulais travailler avec le package standard pour utiliser des fichiers CSV, je ferais :"
   ]
  },
  {
   "cell_type": "code",
   "execution_count": null,
   "metadata": {},
   "outputs": [],
   "source": [
    "import csv"
   ]
  },
  {
   "cell_type": "markdown",
   "metadata": {},
   "source": [
    "Cette ligne va me permettre d'importer le module csv. Regardons ce qu'il a dans le ventre :"
   ]
  },
  {
   "cell_type": "code",
   "execution_count": null,
   "metadata": {},
   "outputs": [],
   "source": [
    "dir(csv)"
   ]
  },
  {
   "cell_type": "markdown",
   "metadata": {},
   "source": [
    "C'est bien, mais ça ne vous dit pas grand-chose non ? On voit à la limite quelque chose pour lire (`reader`) et quelque chose pour écrire (`writer`) avec *a priori* deux variations : `DictReader` et `DictWriter`. Mais cela reste vague. "
   ]
  },
  {
   "cell_type": "markdown",
   "metadata": {},
   "source": [
    "---\n",
    "\n",
    "## Le package CSV\n",
    "\n",
    "Heureusement, python propose pour ses librairies standards une très bonne documentation : https://docs.python.org/3.5/library/csv.html\n",
    "\n",
    "Je reprends ci-dessous deux morceaux de la documentation, qui sont ceux qui vont d'abord nous intéresser.\n",
    "\n",
    "### 1. Lire\n",
    "\n",
    "Commençons par ce qui est la documentation de `reader()`\n",
    " \n",
    "#### csv.reader(csvfile, dialect=’excel’, **fmtparams)\n",
    "\n",
    "> Return a reader object which will iterate over lines in the given `csvfile`. `csvfile` can be any object which supports the iterator protocol and returns a string each time its `__next__()` method is called — file objects and list objects are both suitable. If csvfile is a file object, it should be opened with newline=''. [1] An optional `dialect` parameter can be given which is used to define a set of parameters specific to a particular CSV dialect. It may be an instance of a subclass of the Dialect class or one of the strings returned by the list_dialects() function. The other optional `fmtparams` keyword arguments can be given to override individual formatting parameters in the current dialect. For full details about the dialect and formatting parameters, see section [Dialects and Formatting Parameters](https://docs.python.org/3.5/library/csv.html#dialects-and-formatting-parameters).\n",
    "\n",
    "> Each row read from the csv file is returned as a list of strings. No automatic data type conversion is performed unless the QUOTE_NONNUMERIC format option is specified (in which case unquoted fields are transformed into floats).\n",
    "\n",
    "> A short usage example:"
   ]
  },
  {
   "cell_type": "code",
   "execution_count": null,
   "metadata": {},
   "outputs": [],
   "source": [
    "import csv\n",
    "with open('data/csv/eggs.csv', newline='') as csvfile:\n",
    "    spamreader = csv.reader(csvfile, delimiter=' ', quotechar='|')\n",
    "    for row in spamreader:\n",
    "        print(row)\n",
    "        print(', '.join(row))\n",
    "# Spam, Spam, Spam, Spam, Spam, Baked Beans\n",
    "# Spam, Lovely Spam, Wonderful Spam"
   ]
  },
  {
   "cell_type": "markdown",
   "metadata": {},
   "source": [
    "**À partir de cette documentation et de cet exemple**, on peut tirer plusieurs conclusions :\n",
    "\n",
    "- `csv.reader()` prend comme premier argument un fichier ouvert\n",
    "- il peut prendre un `dialect` ou des paramètres qui ne sont pas développés par la documentation de la fonction elle-même : dans `**fmtparams`, `**` signifie qu'il existe d'autres paramètres optionnels nominatifs.\n",
    "- il arrive que, sans aller dans *Dialects and Formatting Parameters*, nous avons deux exemples de ces paramètres dans l'exemple :\n",
    "    - `delimiter` qui semble être un délimiteur de colonne.\n",
    "    - `quotechar` qui semble être un \"encapsulateur\" permettant d'échapper les délimiteurs\n",
    "    \n",
    "Regardons le fichier [data/csv/eggs.csv](data/csv/eggs.csv)\n",
    "\n",
    "En lançant l'exemple, on s'aperçoit que le `reader` va renvoyer une liste quand on va itérer dessus: ces listes correspondent aux lignes."
   ]
  },
  {
   "cell_type": "markdown",
   "metadata": {},
   "source": [
    "###### Une fonction utile : la fonction enumerate\n",
    "\n",
    "Dans le cadre d'une boucle, enumerate permet de renvoyer un tuple sur une valeur simple afin de de compter l'index de l'objet parcouru :"
   ]
  },
  {
   "cell_type": "code",
   "execution_count": null,
   "metadata": {},
   "outputs": [],
   "source": [
    "couleurs = [\"vert\", \"rouge\", \"bleu\"]\n",
    "\n",
    "for index, couleur in enumerate(couleurs):\n",
    "    print(str(index)+ \" = \" + couleur)\n"
   ]
  },
  {
   "cell_type": "markdown",
   "metadata": {},
   "source": [
    "##### Exercice \n",
    "\n",
    "À partir du fichier `data/csv/gaulois.csv`, compter le nombre de publicités en page 1 sur l'ensemble des numéros. \n",
    "\n",
    "*Attention ! La première ligne est une ligne d'en-tête*"
   ]
  },
  {
   "cell_type": "code",
   "execution_count": null,
   "metadata": {},
   "outputs": [],
   "source": [
    "pubs = 0\n",
    "\n",
    "# Tests pour vérifier : le résultat doit être enregistré dans une variable pubs\n",
    "assert pubs == 2260, \"Il y a eu 2260 publicité sur les premiers numéros du Gaulois\""
   ]
  },
  {
   "cell_type": "markdown",
   "metadata": {},
   "source": [
    "### 2. Écrire\n",
    "\n",
    "Si lire est utile, écrire l'est tout autant, surtout lorsque l'on récupère des informations d'ici et là et que l'on veut les remettre en formes\n",
    "\n",
    "Voyons la documentation de csv.writer et son exemple :\n",
    "\n",
    "#### csv.writer(csvfile, dialect=’excel’, **fmtparams)\n",
    "\n",
    ">    Return a writer object responsible for converting the user’s data into delimited strings on the given file-like object. csvfile can be any object with a write() method. If csvfile is a file object, it should be opened with newline='' [1]. An optional dialect parameter can be given which is used to define a set of parameters specific to a particular CSV dialect. It may be an instance of a subclass of the Dialect class or one of the strings returned by the list_dialects() function. The other optional fmtparams keyword arguments can be given to override individual formatting parameters in the current dialect. For full details about the dialect and formatting parameters, see section Dialects and Formatting Parameters. To make it as easy as possible to interface with modules which implement the DB API, the value None is written as the empty string. While this isn’t a reversible transformation, it makes it easier to dump SQL NULL data values to CSV files without preprocessing the data returned from a cursor.fetch* call. All other non-string data are stringified with str() before being written.\n",
    "\n",
    "> A short usage example:"
   ]
  },
  {
   "cell_type": "code",
   "execution_count": null,
   "metadata": {},
   "outputs": [],
   "source": [
    "import csv\n",
    "with open('data/csv/eggs.csv', 'w') as csvfile:\n",
    "    spamwriter = csv.writer(csvfile, delimiter=' ', quotechar='|', quoting=csv.QUOTE_MINIMAL)\n",
    "    spamwriter.writerow(['Spam'] * 5 + ['Baked Beans'])\n",
    "    spamwriter.writerow(['Spam', 'Lovely Spam', 'Wonderful Spam'])"
   ]
  },
  {
   "cell_type": "markdown",
   "metadata": {},
   "source": [
    "**À partir de cette documentation et de cet exemple**, on peut tirer plusieurs conclusions :\n",
    "\n",
    "- `csv.writer()` prend comme premier argument un fichier ouvert en mode écriture\n",
    "- il peut prendre un `dialect` ou des paramètres qui ne sont pas développés par la documentation de la fonction elle-même : dans `**fmtparams`, `**` signifie qu'il existe d'autres paramètres optionnels nominatifs.\n",
    "- il arrive que, sans aller dans *Dialects and Formatting Parameters*, nous ayons deux exemples de ces paramètres dans l'exemple :\n",
    "    - `delimiter` qui semble être un délimiteur de colonne.\n",
    "    - `quotechar` qui semble être un \"encapsulateur\" permettant d'échapper les délimiteurs\n",
    "    - `quoting` qui d'après la documentation correspond à un mode de citation minimal (Utilisation des `quotechar` que lorsque cela est nécessaire. C'est par ailleurs la valeur par défaut : https://docs.python.org/3.5/library/csv.html#csv.Dialect.quoting )\n",
    "- on écrit une ligne en utilisant la méthode `.writerow()` qui prend comme argument une liste\n",
    "- on utilise `.writerow()` autant de fois que nécessaire\n",
    "    \n",
    "Regardons le fichier [data/csv/eggs.csv](data/csv/eggs.csv)\n",
    "\n",
    "En lançant l'exemple, on s'aperçoit que le `writer()` va rédiger deux lignes. Ce sont les deux que nous avons lues plus haut."
   ]
  },
  {
   "cell_type": "markdown",
   "metadata": {},
   "source": [
    "##### Exercice\n",
    "\n",
    "`modules_cours.chapitre4` est un module écrit spécifiquement pour ce cours (si vous êtes [curieux-ses](modules_cours/chapitre4.py)) Dans ce module, il y a la fonction `read_rss()` qui renvoie un générateur contenant des tuples Titre - Résumé - Lien - Date de publication. Par exemple :"
   ]
  },
  {
   "cell_type": "code",
   "execution_count": null,
   "metadata": {},
   "outputs": [],
   "source": [
    "from modules_cours.chapitre4 import read_rss\n",
    "\n",
    "# Il s'agit ici de l'adresse RSS d'un flux de la BNF\n",
    "for entree in read_rss(\"http://www.bnf.fr/Satellite?c=Page&cid=1237374444944&locale=1194947514616&p=1237374444944&pagename=bnf_dev%2FRss&typeRss=Biblio\"):\n",
    "    print(entree)"
   ]
  },
  {
   "cell_type": "markdown",
   "metadata": {},
   "source": [
    "À partir de cette fonction, réaliser un CSV (en utilisant le délimiteur `\\t`) pour le flux RSS de Bibliopat : `http://www.bibliopat.fr/rss-actualites`. Le CSV sera stocké à `bibliopat.csv`."
   ]
  },
  {
   "cell_type": "code",
   "execution_count": null,
   "metadata": {},
   "outputs": [],
   "source": [
    "from modules_cours.chapitre4 import read_rss\n",
    "import csv\n",
    "\n",
    "# Votre code ici"
   ]
  },
  {
   "cell_type": "markdown",
   "metadata": {},
   "source": [
    "##### Avez-vous remarqué ?\n",
    "\n",
    "Ci-dessus, nous avons utilisé `from ___ import ___`. Cette structure d'import nous permet de n'importer qu'un sous-module ou une sous-fonction en particulier. Très pratique pour éviter les noms à rallonge !"
   ]
  },
  {
   "cell_type": "markdown",
   "metadata": {},
   "source": [
    "----\n",
    "\n",
    "#### Ce que l'on a appris\n",
    "\n",
    "Pour finir cette section, voici un récapitulatif des concepts appris. Lisez la liste et posez des questions si certaines choses ne sont pas claires.\n",
    "\n",
    "- `import`\n",
    "- `from ___ import ___`\n",
    "- la notion de librairie/module/package\n",
    "- `csv.reader()`\n",
    "- `csv.writer()`\n",
    "- `enumerate()`\n",
    "- Lire une documentation et ses exemples\n",
    "\n",
    "#### Ce que l'on recommande d'approfondir\n",
    "\n",
    "Si les fonctions `csv.reader()` et `csv.writer()` sont sympathiques, les fonctions `DictReader` et `DictWriter` le sont beaucoup plus : elles stockent les noms de colonnes ! *cf.* [la documentation](https://docs.python.org/3.5/library/csv.html#csv.DictReader)"
   ]
  }
 ],
 "metadata": {
  "kernelspec": {
   "display_name": "Python 3",
   "language": "python",
   "name": "python3"
  },
  "language_info": {
   "codemirror_mode": {
    "name": "ipython",
    "version": 3
   },
   "file_extension": ".py",
   "mimetype": "text/x-python",
   "name": "python",
   "nbconvert_exporter": "python",
   "pygments_lexer": "ipython3",
   "version": "3.5.2"
  }
 },
 "nbformat": 4,
 "nbformat_minor": 2
}
