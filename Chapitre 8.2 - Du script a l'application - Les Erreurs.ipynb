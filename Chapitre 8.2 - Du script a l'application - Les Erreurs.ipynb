{
 "cells": [
  {
   "cell_type": "markdown",
   "metadata": {},
   "source": [
    "Chapitre 8.2 - Du script à l'application - Les Erreurs\n",
    "==="
   ]
  },
  {
   "cell_type": "markdown",
   "metadata": {},
   "source": [
    "## Les erreurs\n",
    "\n",
    "On a souvent rencontré des erreurs. Et on en a même provoquées volontairement, par exemple, si on tentait de diviser d'obtenir un élément inexistant :"
   ]
  },
  {
   "cell_type": "code",
   "execution_count": null,
   "metadata": {},
   "outputs": [],
   "source": [
    "liste = [0,1,2]\n",
    "liste[3]"
   ]
  },
  {
   "cell_type": "markdown",
   "metadata": {},
   "source": [
    "### Que faire quand on a une erreur\n",
    "\n",
    "On peut éviter les erreurs en imbriquant un code dans un double bloc `try except` qui s'écrit comme un `if else` sauf que : \n",
    "- le bloc `except` est obligatoire si un `try` est ouvert\n",
    "- le bloc `except` n'est exécuté que si une erreur apparaît"
   ]
  },
  {
   "cell_type": "code",
   "execution_count": 1,
   "metadata": {},
   "outputs": [
    {
     "name": "stdout",
     "output_type": "stream",
     "text": [
      "Je me suis trompé !\n"
     ]
    },
    {
     "ename": "NameError",
     "evalue": "name 'liste' is not defined",
     "output_type": "error",
     "traceback": [
      "\u001b[0;31m---------------------------------------------------------------------------\u001b[0m",
      "\u001b[0;31mNameError\u001b[0m                                 Traceback (most recent call last)",
      "\u001b[0;32m<ipython-input-1-2260ade8d4fb>\u001b[0m in \u001b[0;36m<module>\u001b[0;34m\u001b[0m\n\u001b[1;32m      1\u001b[0m \u001b[0;32mtry\u001b[0m\u001b[0;34m:\u001b[0m\u001b[0;34m\u001b[0m\u001b[0;34m\u001b[0m\u001b[0m\n\u001b[0;32m----> 2\u001b[0;31m     \u001b[0mprint\u001b[0m\u001b[0;34m(\u001b[0m\u001b[0mliste\u001b[0m\u001b[0;34m[\u001b[0m\u001b[0;36m3\u001b[0m\u001b[0;34m]\u001b[0m\u001b[0;34m)\u001b[0m\u001b[0;34m\u001b[0m\u001b[0;34m\u001b[0m\u001b[0m\n\u001b[0m\u001b[1;32m      3\u001b[0m \u001b[0;32mexcept\u001b[0m\u001b[0;34m:\u001b[0m\u001b[0;34m\u001b[0m\u001b[0;34m\u001b[0m\u001b[0m\n",
      "\u001b[0;31mNameError\u001b[0m: name 'liste' is not defined",
      "\nDuring handling of the above exception, another exception occurred:\n",
      "\u001b[0;31mNameError\u001b[0m                                 Traceback (most recent call last)",
      "\u001b[0;32m<ipython-input-1-2260ade8d4fb>\u001b[0m in \u001b[0;36m<module>\u001b[0;34m\u001b[0m\n\u001b[1;32m      3\u001b[0m \u001b[0;32mexcept\u001b[0m\u001b[0;34m:\u001b[0m\u001b[0;34m\u001b[0m\u001b[0;34m\u001b[0m\u001b[0m\n\u001b[1;32m      4\u001b[0m     \u001b[0mprint\u001b[0m\u001b[0;34m(\u001b[0m\u001b[0;34m\"Je me suis trompé !\"\u001b[0m\u001b[0;34m)\u001b[0m\u001b[0;34m\u001b[0m\u001b[0;34m\u001b[0m\u001b[0m\n\u001b[0;32m----> 5\u001b[0;31m     \u001b[0mprint\u001b[0m\u001b[0;34m(\u001b[0m\u001b[0mliste\u001b[0m\u001b[0;34m[\u001b[0m\u001b[0;36m2\u001b[0m\u001b[0;34m]\u001b[0m\u001b[0;34m)\u001b[0m\u001b[0;34m\u001b[0m\u001b[0;34m\u001b[0m\u001b[0m\n\u001b[0m",
      "\u001b[0;31mNameError\u001b[0m: name 'liste' is not defined"
     ]
    }
   ],
   "source": [
    "try:\n",
    "    print(liste[3])\n",
    "except:\n",
    "    print(\"Je me suis trompé !\")\n",
    "    print(liste[2])"
   ]
  },
  {
   "cell_type": "markdown",
   "metadata": {},
   "source": [
    "### Que faire quand on veut gérer une erreur spécifique\n",
    "\n",
    "Il est possible de vouloir gérer des erreurs de manière différente. Par exemple, dans le code suivant, nous avons une liste qui contient des dictionnaires, on peut avoir une erreur liée à l'index utilisé (IndexError) ou une erreur liée à une clef particulière. \n",
    "\n",
    "On fait alors suivre `except` par le nom ou les noms (séparés par des virgules) des erreurs que l'on veut gérer à part. Si une erreur ne fait pas partie des erreurs attendues, l'erreur n'est pas ignorée :"
   ]
  },
  {
   "cell_type": "code",
   "execution_count": 2,
   "metadata": {},
   "outputs": [
    {
     "name": "stdout",
     "output_type": "stream",
     "text": [
      "R2D2 a un prix de 85000 soit 850000.0 Truguts\n",
      "---\n",
      "L'objet 1 n'a pas toutes les données nécessaires\n",
      "---\n",
      "`Ce qui n'est pas dans nos collections n'existe pas`\n",
      "---\n"
     ]
    },
    {
     "ename": "ZeroDivisionError",
     "evalue": "division by zero",
     "output_type": "error",
     "traceback": [
      "\u001b[0;31m---------------------------------------------------------------------------\u001b[0m",
      "\u001b[0;31mZeroDivisionError\u001b[0m                         Traceback (most recent call last)",
      "\u001b[0;32m<ipython-input-2-6fad083a2073>\u001b[0m in \u001b[0;36m<module>\u001b[0;34m\u001b[0m\n\u001b[1;32m     38\u001b[0m \u001b[0mconvertir\u001b[0m\u001b[0;34m(\u001b[0m\u001b[0;36m3\u001b[0m\u001b[0;34m)\u001b[0m\u001b[0;34m\u001b[0m\u001b[0;34m\u001b[0m\u001b[0m\n\u001b[1;32m     39\u001b[0m \u001b[0mprint\u001b[0m\u001b[0;34m(\u001b[0m\u001b[0;34m\"---\"\u001b[0m\u001b[0;34m)\u001b[0m\u001b[0;34m\u001b[0m\u001b[0;34m\u001b[0m\u001b[0m\n\u001b[0;32m---> 40\u001b[0;31m \u001b[0mconvertir\u001b[0m\u001b[0;34m(\u001b[0m\u001b[0;36m2\u001b[0m\u001b[0;34m,\u001b[0m \u001b[0;36m0\u001b[0m\u001b[0;34m)\u001b[0m\u001b[0;34m\u001b[0m\u001b[0;34m\u001b[0m\u001b[0m\n\u001b[0m",
      "\u001b[0;32m<ipython-input-2-6fad083a2073>\u001b[0m in \u001b[0;36mconvertir\u001b[0;34m(index_objet, cour_credit_republicain)\u001b[0m\n\u001b[1;32m     22\u001b[0m             \u001b[0mobjet\u001b[0m\u001b[0;34m=\u001b[0m\u001b[0mobjets\u001b[0m\u001b[0;34m[\u001b[0m\u001b[0mindex_objet\u001b[0m\u001b[0;34m]\u001b[0m\u001b[0;34m[\u001b[0m\u001b[0;34m\"nom\"\u001b[0m\u001b[0;34m]\u001b[0m\u001b[0;34m,\u001b[0m\u001b[0;34m\u001b[0m\u001b[0;34m\u001b[0m\u001b[0m\n\u001b[1;32m     23\u001b[0m             \u001b[0mcredits\u001b[0m\u001b[0;34m=\u001b[0m\u001b[0mobjets\u001b[0m\u001b[0;34m[\u001b[0m\u001b[0mindex_objet\u001b[0m\u001b[0;34m]\u001b[0m\u001b[0;34m[\u001b[0m\u001b[0;34m\"prix\"\u001b[0m\u001b[0;34m]\u001b[0m\u001b[0;34m,\u001b[0m\u001b[0;34m\u001b[0m\u001b[0;34m\u001b[0m\u001b[0m\n\u001b[0;32m---> 24\u001b[0;31m             \u001b[0mtrugut\u001b[0m\u001b[0;34m=\u001b[0m\u001b[0mobjets\u001b[0m\u001b[0;34m[\u001b[0m\u001b[0mindex_objet\u001b[0m\u001b[0;34m]\u001b[0m\u001b[0;34m[\u001b[0m\u001b[0;34m\"prix\"\u001b[0m\u001b[0;34m]\u001b[0m\u001b[0;34m/\u001b[0m\u001b[0mcour_credit_republicain\u001b[0m\u001b[0;34m\u001b[0m\u001b[0;34m\u001b[0m\u001b[0m\n\u001b[0m\u001b[1;32m     25\u001b[0m         ))\n\u001b[1;32m     26\u001b[0m         \u001b[0;32mreturn\u001b[0m \u001b[0mobjets\u001b[0m\u001b[0;34m[\u001b[0m\u001b[0mindex_objet\u001b[0m\u001b[0;34m]\u001b[0m\u001b[0;34m[\u001b[0m\u001b[0;34m\"prix\"\u001b[0m\u001b[0;34m]\u001b[0m\u001b[0;34m/\u001b[0m\u001b[0mcour_credit_republicain\u001b[0m\u001b[0;34m\u001b[0m\u001b[0;34m\u001b[0m\u001b[0m\n",
      "\u001b[0;31mZeroDivisionError\u001b[0m: division by zero"
     ]
    }
   ],
   "source": [
    "objets = [\n",
    "    {\n",
    "        \"nom\": \"R2D2\",\n",
    "        \"prix\": 85000\n",
    "    },\n",
    "    {\n",
    "        \"nom\": \"La Force\"\n",
    "    },\n",
    "    {\n",
    "        \"nom\": \"BB8\",\n",
    "        \"prix\": 20000\n",
    "    }\n",
    "]\n",
    "\n",
    "def convertir(index_objet, cour_credit_republicain=0.1):\n",
    "    \"\"\" Convertit le prix d'un objet du monde de Star Wars en Trugut\n",
    "    \n",
    "    http://fr.starwars.wikia.com/wiki/Cr%C3%A9dit_Galactique_Standard\n",
    "    \"\"\"\n",
    "    try:\n",
    "        print(\"{objet} a un prix de {credits} soit {trugut} Truguts\".format(\n",
    "            objet=objets[index_objet][\"nom\"],\n",
    "            credits=objets[index_objet][\"prix\"],\n",
    "            trugut=objets[index_objet][\"prix\"]/cour_credit_republicain\n",
    "        ))\n",
    "        return objets[index_objet][\"prix\"]/cour_credit_republicain\n",
    "    except IndexError:\n",
    "        print(\"`Ce qui n'est pas dans nos collections n'existe pas`\")\n",
    "        return None\n",
    "    except KeyError:\n",
    "        print(\"L'objet {} n'a pas toutes les données nécessaires\".format(index_objet))\n",
    "        return None\n",
    "\n",
    "convertir(0)\n",
    "print(\"---\")\n",
    "convertir(1)\n",
    "print(\"---\")\n",
    "convertir(3)\n",
    "print(\"---\")\n",
    "convertir(2, 0)\n"
   ]
  },
  {
   "cell_type": "markdown",
   "metadata": {},
   "source": [
    "### Récupérer l'erreur et la relancer\n",
    "\n",
    "Il peut être intéressant de récupérer l'erreur et de la relance : imaginons que nous avons un bloc de gestion de données et qu'une erreur arrive après avoir déjà traité un gros nombre de données. On pourrait alors sauvegarder ce que l'on a, puis lancer l'erreur pour faire du débogage."
   ]
  },
  {
   "cell_type": "code",
   "execution_count": 3,
   "metadata": {},
   "outputs": [
    {
     "name": "stdout",
     "output_type": "stream",
     "text": [
      "Je me suis trompé !\n"
     ]
    },
    {
     "ename": "NameError",
     "evalue": "name 'liste' is not defined",
     "output_type": "error",
     "traceback": [
      "\u001b[0;31m---------------------------------------------------------------------------\u001b[0m",
      "\u001b[0;31mNameError\u001b[0m                                 Traceback (most recent call last)",
      "\u001b[0;32m<ipython-input-3-61108c1cc242>\u001b[0m in \u001b[0;36m<module>\u001b[0;34m\u001b[0m\n\u001b[1;32m      3\u001b[0m \u001b[0;32mexcept\u001b[0m \u001b[0mException\u001b[0m \u001b[0;32mas\u001b[0m \u001b[0mma_variable_erreur\u001b[0m\u001b[0;34m:\u001b[0m\u001b[0;34m\u001b[0m\u001b[0;34m\u001b[0m\u001b[0m\n\u001b[1;32m      4\u001b[0m     \u001b[0mprint\u001b[0m\u001b[0;34m(\u001b[0m\u001b[0;34m\"Je me suis trompé !\"\u001b[0m\u001b[0;34m)\u001b[0m\u001b[0;34m\u001b[0m\u001b[0;34m\u001b[0m\u001b[0m\n\u001b[0;32m----> 5\u001b[0;31m     \u001b[0;32mraise\u001b[0m \u001b[0mma_variable_erreur\u001b[0m\u001b[0;34m\u001b[0m\u001b[0;34m\u001b[0m\u001b[0m\n\u001b[0m",
      "\u001b[0;32m<ipython-input-3-61108c1cc242>\u001b[0m in \u001b[0;36m<module>\u001b[0;34m\u001b[0m\n\u001b[1;32m      1\u001b[0m \u001b[0;32mtry\u001b[0m\u001b[0;34m:\u001b[0m\u001b[0;34m\u001b[0m\u001b[0;34m\u001b[0m\u001b[0m\n\u001b[0;32m----> 2\u001b[0;31m     \u001b[0mprint\u001b[0m\u001b[0;34m(\u001b[0m\u001b[0mliste\u001b[0m\u001b[0;34m[\u001b[0m\u001b[0;36m3\u001b[0m\u001b[0;34m]\u001b[0m\u001b[0;34m)\u001b[0m\u001b[0;34m\u001b[0m\u001b[0;34m\u001b[0m\u001b[0m\n\u001b[0m\u001b[1;32m      3\u001b[0m \u001b[0;32mexcept\u001b[0m \u001b[0mException\u001b[0m \u001b[0;32mas\u001b[0m \u001b[0mma_variable_erreur\u001b[0m\u001b[0;34m:\u001b[0m\u001b[0;34m\u001b[0m\u001b[0;34m\u001b[0m\u001b[0m\n\u001b[1;32m      4\u001b[0m     \u001b[0mprint\u001b[0m\u001b[0;34m(\u001b[0m\u001b[0;34m\"Je me suis trompé !\"\u001b[0m\u001b[0;34m)\u001b[0m\u001b[0;34m\u001b[0m\u001b[0;34m\u001b[0m\u001b[0m\n\u001b[1;32m      5\u001b[0m     \u001b[0;32mraise\u001b[0m \u001b[0mma_variable_erreur\u001b[0m\u001b[0;34m\u001b[0m\u001b[0;34m\u001b[0m\u001b[0m\n",
      "\u001b[0;31mNameError\u001b[0m: name 'liste' is not defined"
     ]
    }
   ],
   "source": [
    "try:\n",
    "    print(liste[3])\n",
    "except Exception as ma_variable_erreur:\n",
    "    print(\"Je me suis trompé !\")\n",
    "    raise ma_variable_erreur"
   ]
  },
  {
   "cell_type": "markdown",
   "metadata": {},
   "source": [
    "#### Lecture de code :\n",
    "\n",
    "- On ajoute Exception qui permet de cibler toutes les erreurs. Cela pourrait être une erreur spécifique.\n",
    "    - On stocke cette erreur via `as nom_de_variable`\n",
    "- On fait toutes les opérations que l'on veut\n",
    "- On utilise ensuite `raise` avec l'erreur à lancer"
   ]
  },
  {
   "cell_type": "markdown",
   "metadata": {},
   "source": [
    "### Important\n",
    "\n",
    "La gestion d'erreur ne devrait être utilisée qu'en cas de force majeure ! Elle est en effet plus consommatrice que des simples `if`-`else` : tant que vous pouvez le prévoir, tentez de couvrir votre code via des conditions et non des `try-except`"
   ]
  },
  {
   "cell_type": "markdown",
   "metadata": {},
   "source": [
    "### Exercice\n",
    "\n",
    "Le code suivant peut créer une erreur :\n",
    "\n",
    "```python\n",
    "lieux = {\n",
    "    0: {\n",
    "        \"nom\": \"Col. Lugdunum\",\n",
    "        \"moderne\": \"Lyon\",\n",
    "        \"latlong\": [45.762095775, 4.822438025],\n",
    "        \"type\": \"ville\",\n",
    "        \"description\": \"Col. Lugdunum was a Roman military colony from 43 BC and a major center in Gaul. Marcus \"\n",
    "                       \"Agrippa was involved in its expansion and two Roman emperors, Claudius and Caracalla, \"\n",
    "                       \"were born there.\"\n",
    "    },\n",
    "    1: {\n",
    "        \"nom\": \"Samarobriva Ambianorum\",\n",
    "        \"moderne\": \"Amiens\",\n",
    "        \"type\": \"ville\",\n",
    "        \"description\": \"An ancient place, cited: BAtlas 11 C3 Samarobriva Ambianorum \",\n",
    "        \"latlong\": [49.8936075, 2.297948]\n",
    "    }\n",
    "}\n",
    "@app.route(\"/place/<int:place_id>\")\n",
    "def lieu(place_id):\n",
    "    return render_template(\"pages/place.html\", nom=\"Gazetteer\", lieu=lieux[place_id])\n",
    "```\n",
    "\n",
    "1. Pouvez-vous dire dans quelles conditions ?\n",
    "2. Récupérez le nom de l'erreur\n",
    "3. Ajoutez un `try-except`\n",
    "    4. Quel code HTTP devriez-vous rajouter ?"
   ]
  }
 ],
 "metadata": {
  "kernelspec": {
   "display_name": "Python 3",
   "language": "python",
   "name": "python3"
  },
  "language_info": {
   "codemirror_mode": {
    "name": "ipython",
    "version": 3
   },
   "file_extension": ".py",
   "mimetype": "text/x-python",
   "name": "python",
   "nbconvert_exporter": "python",
   "pygments_lexer": "ipython3",
   "version": "3.6.7"
  }
 },
 "nbformat": 4,
 "nbformat_minor": 1
}
