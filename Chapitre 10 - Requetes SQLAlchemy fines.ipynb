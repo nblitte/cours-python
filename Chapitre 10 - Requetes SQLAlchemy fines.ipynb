{
 "cells": [
  {
   "cell_type": "markdown",
   "metadata": {},
   "source": [
    "Chapitre 10 - Requêtes SQLAlchemy fines et petites astuces\n",
    "===\n",
    "\n",
    "Dans ce chapitre, nous verrons un ensemble de petites modifications de requêtes. Entre autres, nous verrons :\n",
    "\n",
    "- Comment limiter le nombre de résultats obtenus\n",
    "- Limiter les résultats à SQL à un résultat\n",
    "- Ordonner les résultats\n",
    "- Faire un `AND` ou un `OR`\n",
    "- Lancer une erreur quand une réponse n'est pas trouvée\n",
    "- **Zen du Python** : les boucles sur des listes en une ligne\n",
    "- Comment faire une pagination\n",
    "\n",
    "Ce chapitre pourra vous servir de documentation à l'avenir. L'important est de comprendre l'ensemble des possibilités.\n",
    "\n",
    "Pour faire cet ensemble de requêtes, on utilisera le bloc code suivant :"
   ]
  },
  {
   "cell_type": "code",
   "execution_count": null,
   "metadata": {},
   "outputs": [],
   "source": [
    "from flask import Flask\n",
    "from flask_sqlalchemy import SQLAlchemy\n",
    "\n",
    "app = Flask(\"Application\")\n",
    "# On configure la base de données\n",
    "app.config['SQLALCHEMY_DATABASE_URI'] = 'sqlite:///cours-flask/db.sqlite'\n",
    "# On initie l'extension\n",
    "db = SQLAlchemy(app)\n",
    "\n",
    "\n",
    "# On crée notre modèle\n",
    "class Place(db.Model):\n",
    "    place_id = db.Column(db.Integer, unique=True, nullable=False, primary_key=True, autoincrement=True)\n",
    "    place_nom = db.Column(db.Text)\n",
    "    place_description = db.Column(db.Text)\n",
    "    place_longitude = db.Column(db.Float)\n",
    "    place_latitude = db.Column(db.Float)\n",
    "    place_type = db.Column(db.String(45))\n",
    "\n",
    "all_results = Place.query.all()"
   ]
  },
  {
   "cell_type": "markdown",
   "metadata": {},
   "source": [
    "### Rappel\n",
    "\n",
    "Pour faire une requête de type `SELECT`, on écrira :"
   ]
  },
  {
   "cell_type": "code",
   "execution_count": null,
   "metadata": {},
   "outputs": [],
   "source": [
    "data = Place.query.filter(Place.place_type==\"settlement\").all()\n",
    "print(data)"
   ]
  },
  {
   "cell_type": "markdown",
   "metadata": {},
   "source": [
    "**Lecture:**\n",
    "\n",
    "1. On utilise le nom de la classe SQL représentant la table SQL utilisée\n",
    "2. On y adjoint `.query`\n",
    "3. Pour effectuer un filter de type `WHERE`, on adjoint `.filter()`\n",
    "    1. Dans filter, on utilise la propriété représentant le champ (ici `Place.place_type`)\n",
    "    2. On effectue au choix \n",
    "        - une égalité python `== 'quelquechose'`\n",
    "        - un `LIKE` en adjoignant `.like(REQUETELIKE)`\n",
    "4. On récupère l'ensemble des résultats via `.all()` en fin de requête"
   ]
  },
  {
   "cell_type": "markdown",
   "metadata": {},
   "source": [
    "### Comment limiter le nombre de résultats obtenus\n",
    "\n",
    "On adjoint tout simple `.limit(Nombre Entier)` à la fin de notre requête, avant de récupérer les résultats via `.all()` par exemple."
   ]
  },
  {
   "cell_type": "code",
   "execution_count": null,
   "metadata": {},
   "outputs": [],
   "source": [
    "data = Place.query.filter(Place.place_type==\"settlement\").limit(5).all()\n",
    "print(data)"
   ]
  },
  {
   "cell_type": "markdown",
   "metadata": {},
   "source": [
    "**Exercice** : Pouvez-vous transcrire cette requête en MySQL ?"
   ]
  },
  {
   "cell_type": "markdown",
   "metadata": {},
   "source": [
    "### Comment obtenir seulement le premier résultat\n",
    "\n",
    "On adjoint tout simple `.first()` à la fin de notre requête au lieu de `.all()`"
   ]
  },
  {
   "cell_type": "code",
   "execution_count": null,
   "metadata": {},
   "outputs": [],
   "source": [
    "data = Place.query.filter(Place.place_type==\"settlement\").first()\n",
    "print(data)"
   ]
  },
  {
   "cell_type": "markdown",
   "metadata": {},
   "source": [
    "**Attention:** en récupérant les résultats via `.first()`, on ne récupère qu'un seul objet qui **n'est pas dans une liste !**"
   ]
  },
  {
   "cell_type": "markdown",
   "metadata": {},
   "source": [
    "### Ordonner les résultats\n",
    "\n",
    "#### Simple\n",
    "\n",
    "On adjoint tout simple `.order_by()` à la fin de notre requête (le défaut est ordre alphabétique croissant) :"
   ]
  },
  {
   "cell_type": "code",
   "execution_count": null,
   "metadata": {},
   "outputs": [],
   "source": [
    "data = Place.query.filter(Place.place_type==\"settlement\").order_by(Place.place_nom).all()\n",
    "for lieu in data:\n",
    "    print(lieu.place_nom)"
   ]
  },
  {
   "cell_type": "markdown",
   "metadata": {},
   "source": [
    "#### Complexe\n",
    "\n",
    "On peut adjoindre derrière le nom de champ (ici `Place.place_nom`) `.desc()` ou `.asc()` afin de faire l'ordre croissant ou décroissant."
   ]
  },
  {
   "cell_type": "code",
   "execution_count": null,
   "metadata": {},
   "outputs": [],
   "source": [
    "data = Place.query.filter(Place.place_type==\"settlement\").order_by(Place.place_nom.desc()).all()\n",
    "for lieu in data:\n",
    "    print(lieu.place_nom)"
   ]
  },
  {
   "cell_type": "markdown",
   "metadata": {},
   "source": [
    "#### Multiple\n",
    "\n",
    "Au cas où deux lieux aient le même nom, on pourrait départager en ajoutant un second filtre (comme la description) en le mettant en deuxième argument de `order_by`:"
   ]
  },
  {
   "cell_type": "code",
   "execution_count": null,
   "metadata": {},
   "outputs": [],
   "source": [
    "data = Place.query.filter(Place.place_type==\"settlement\").order_by(Place.place_nom.desc(), Place.place_nom.desc()).all()\n",
    "for lieu in data:\n",
    "    print(lieu.place_nom)"
   ]
  },
  {
   "cell_type": "markdown",
   "metadata": {},
   "source": [
    "### Faire un AND ou un OR\n",
    "\n",
    "Dans le `.filter()`, on joint les conditions via `db.or_()` ou `db.and_()`. Les conditions sont collées via des `,` comme des arguments de ces deux méthodes :"
   ]
  },
  {
   "cell_type": "code",
   "execution_count": null,
   "metadata": {},
   "outputs": [],
   "source": [
    "# Ces chiffres sont les longitudes et latitudes qui entourent la Grèce\n",
    "\n",
    "minLat, minLong, maxLat, maxLong = 19.646484375, 34.9344726563, 28.2318359375, 41.7437988281\n",
    "\n",
    "data = Place.query.filter(db.and_(\n",
    "    Place.place_longitude.between(minLong, maxLong),\n",
    "    Place.place_latitude.between(minLat, maxLat),\n",
    ")).order_by(Place.place_nom.desc(), Place.place_nom.desc()).all()\n",
    "\n",
    "for lieu in data:\n",
    "    print(lieu.place_nom)"
   ]
  },
  {
   "cell_type": "code",
   "execution_count": null,
   "metadata": {},
   "outputs": [],
   "source": [
    "# Ces chiffres sont les longitudes et latitudes qui entourent la France métropolitaine\n",
    "\n",
    "minLat2, minLong2, maxLat2, maxLong2 = -4.7625, 42.3404785156, 8.14033203125, 51.0971191406\n",
    "\n",
    "data = Place.query.filter(db.or_(\n",
    "    db.and_(\n",
    "        Place.place_longitude.between(minLong, maxLong),\n",
    "        Place.place_latitude.between(minLat, maxLat)\n",
    "    ),\n",
    "    db.and_(\n",
    "        Place.place_longitude.between(minLong2, maxLong2),\n",
    "        Place.place_latitude.between(minLat2, maxLat2)\n",
    "    )\n",
    ")).order_by(Place.place_nom.desc(), Place.place_nom.desc()).all()\n",
    "\n",
    "for lieu in data:\n",
    "    print(lieu.place_nom, lieu.place_description)"
   ]
  },
  {
   "cell_type": "markdown",
   "metadata": {},
   "source": [
    "###  Lancer une erreur quand une réponse n'est pas trouvée\n",
    "\n",
    "Dans Flask, vous pouvez utiliser `get_or_404(Clef Primaire)`. C'est l'équivalent d'un `.get()` mais qui lancera une erreur 404 si l'objet n'est pas trouvé."
   ]
  },
  {
   "cell_type": "code",
   "execution_count": null,
   "metadata": {},
   "outputs": [],
   "source": [
    "objet = Place.query.get_or_404(78)"
   ]
  },
  {
   "cell_type": "markdown",
   "metadata": {},
   "source": [
    "### **Zen du Python** : les boucles sur des listes en une ligne\n",
    "\n",
    "Pour l'instant, quand nous devions transformer une liste en une autre liste, nous faisons quelque chose comme ce qui suit :"
   ]
  },
  {
   "cell_type": "code",
   "execution_count": null,
   "metadata": {},
   "outputs": [],
   "source": [
    "data = Place.query.filter(Place.place_type==\"settlement\").order_by(Place.place_nom).all()\n",
    "noms_lieux = []\n",
    "for lieu in data:\n",
    "    noms_lieux.append(lieu.place_nom)\n",
    "print(noms_lieux)"
   ]
  },
  {
   "cell_type": "markdown",
   "metadata": {},
   "source": [
    "Une autre méthode existe ! Et beaucoup plus rapide à écrire. Essayez de la décomposer :"
   ]
  },
  {
   "cell_type": "code",
   "execution_count": null,
   "metadata": {},
   "outputs": [],
   "source": [
    "noms_lieux_2 = [lieu.place_nom for lieu in data]\n",
    "print(noms_lieux_2)"
   ]
  },
  {
   "cell_type": "markdown",
   "metadata": {},
   "source": [
    "#### Bonus !\n",
    "\n",
    "On peut même ajouter des `if` (et seulement des ifs !):"
   ]
  },
  {
   "cell_type": "code",
   "execution_count": null,
   "metadata": {},
   "outputs": [],
   "source": [
    "lieux_avec_un_a = [lieu.place_nom for lieu in data if \"a\" in lieu.place_nom]\n",
    "print(lieux_avec_un_a)"
   ]
  },
  {
   "cell_type": "markdown",
   "metadata": {},
   "source": [
    "### Comment faire une pagination\n",
    "\n",
    "L'exercice le plus commun dans une page web est de faire une pagination. Une pagination respecte généralement les conditions suivantes :\n",
    "- on a un nombre maximal de résultats par page (20, 30, 50, 100, etc.)\n",
    "- une page\n",
    "\n",
    "Les pages n'existant pas en requête SQL, on fait généralement une `LIMIT` qui permet de limiter le nombre de résultats par page et on convertit le numéro de la page en numéro du premier résultat à afficher via `LIMIT début, max` ou plutôt `LIMIT max OFFSET début` où \n",
    "- max est le nombre de résultat par page\n",
    "- début représente le numéro du premier résultat.\n",
    "\n",
    "Ainsi, on écrira pour les pages 1 et 2, avec 20 résultats :\n",
    "\n",
    "1. `LIMIT 0, 30` ou `LIMIT 30 OFFSET 0` pour la page 1\n",
    "2. `LIMIT 30, 30` ou `LIMIT 30 OFFSET 30` pour la page 2\n",
    "\n",
    "Mais cela reste très souvent énervant à écrire, car il reste des questions à répondre pour l'interface elle-même:\n",
    "- Quand pouvez-vous afficher \"Page précédente\" et \"Page suivante\" ? Avez-vous assez de résultats après ?\n",
    "- Quel est le nombre maximum de pages ?\n",
    "- etc.\n",
    "\n",
    "Heureusement, SQL alchemy a une petite option bien sympathique qui vient remplacer `.all()` : `.paginate()` !\n",
    "\n",
    "#### La méthode paginate\n",
    "\n",
    "La méthode `paginate()` prend 2 grands paramètres :\n",
    "- `page=` qui correspond au numéro de page\n",
    "- `per_page=` qui correspond au nombre de réponses maximal à récupérer.\n",
    "\n",
    "Ainsi, on écrira le code suivant pour avoir la page 2 de pages avec 2 résultats maximum :"
   ]
  },
  {
   "cell_type": "code",
   "execution_count": null,
   "metadata": {},
   "outputs": [],
   "source": [
    "pagination = Place.query.filter(Place.place_type==\"settlement\").order_by(Place.place_nom).paginate(page=2, per_page=2)\n",
    "\n",
    "for lieu in pagination.items:\n",
    "    print(lieu.place_nom)"
   ]
  },
  {
   "cell_type": "markdown",
   "metadata": {},
   "source": [
    "**Explications:**\n",
    "\n",
    "Pour paginer, on aura donc :\n",
    "\n",
    "- `.paginate()` avec les deux paramètres `page` et `per_page`\n",
    "- on bouclera sur la propriété `.items` du résultat de `.paginate()` afin d'afficher les objets de la page actuelle.\n",
    "\n",
    "La méthode paginate va renvoyer un objet de Pagination (*[documentation](http://flask-sqlalchemy.pocoo.org/2.1/api/?highlight=pagination#flask.ext.sqlalchemy.Pagination)*) qui nous permettra de créer des liens et une pagination jolie à l'oeil. Cet objet contient plusieurs propriétés intéressantes :\n",
    "\n",
    "- `items` qui nous permet donc de retrouver les résultats de la page actuelle\n",
    "- `has_next` qui retournera `True` si il y a une page suivante\n",
    "- `has_prev` qui retournera `True` si il y a une page précédente\n",
    "- `iter_pages(left_edge=2, left_current=2, right_current=5, right_edge=2)` qui permet de construire facilement des paginations en HTML en ayant une boucle à portée de main. On en verra plus [plus bas](#Utilisation-de-paginate-dans-un-template)\n",
    "- `next_num` qui retourne le numéro de la page suivante\n",
    "- `page` qui retourne le numéro de la page actuelle\n",
    "- `pages` qui retourne le nombre total de pages\n",
    "- `prev_num` qui retourne le numéro de la page précédente\n",
    "- `total` qui retourne le nombre total de résultats\n",
    "\n",
    "Ainsi, on aura :"
   ]
  },
  {
   "cell_type": "code",
   "execution_count": null,
   "metadata": {},
   "outputs": [],
   "source": [
    "print(\"Il y a {total_resultats} résultats soient {pages} pages\".format(\n",
    "    total_resultats=pagination.total,\n",
    "    pages=pagination.pages\n",
    "))\n",
    "print(\"La page suivante est la \" + str(pagination.next_num))"
   ]
  },
  {
   "cell_type": "markdown",
   "metadata": {},
   "source": [
    "#### Utilisation de paginate dans un template\n",
    "\n",
    "La méthode `iter_pages()` est très efficace, car elle génère automatiquement le numéro des pages à afficher à partir de 4 paramètres :\n",
    "- le nombre de pages à afficher au tout départ de la liste (les premières pages) : `left_edge`;\n",
    "- le nombre de pages qui précèdent la page actuelle à afficher : `left_current`;\n",
    "- le nombre de pages qui suivent la page actuelle à afficher : `right_current`;\n",
    "- le nombre de pages à afficher à la fin de la liste (les premières pages) : `right_edge`;\n",
    " \n",
    "Ainsi, pour 100 pages et la page 77, on aura pour les paramètres `.iter_pages(left_edge=2, left_current=2, right_current=5, right_edge=2)` : 1,2,75,76,77,78,79,80,81,82,99,100 où:\n",
    "- `left_edge` produit 1 et 2\n",
    "- `left_current` produit 75 et 76\n",
    "- la page actuelle est 77\n",
    "- `right_current` produit 78, 79, 80, 81 et 82\n",
    "- `right_edge` produit 99 et 100\n",
    "\n",
    "\n",
    "**Exercice:**  Pour 70 pages, quels seront les numéros de page afficher pour la page N°45 et la pagination suivante : `.iter_pages(left_edge=2, left_current=2, right_current=5, right_edge=2)`\n",
    "\n",
    "**Attention**: La boucle tourne sur les pages qui ne sont pas concernées par la pagination quand même. Elle renvoie simplement `None` au lieu d'un numéro. On peut alors l'ignorer facilement :"
   ]
  },
  {
   "cell_type": "code",
   "execution_count": null,
   "metadata": {},
   "outputs": [],
   "source": [
    "for page in pagination.iter_pages(left_edge=2, left_current=2, right_current=5, right_edge=2):\n",
    "    if page:\n",
    "        print(page)"
   ]
  },
  {
   "cell_type": "markdown",
   "metadata": {},
   "source": [
    "Un template simple serait alors (dans le cadre de la recherche)\n",
    "```html\n",
    "<div class=pagination>\n",
    "{%- for page in pagination.iter_pages() %}\n",
    "{% if page %}\n",
    "  {% if page != pagination.page %}\n",
    "    <a href=\"{{ url_for(\"recherche\", keyword=keyword, page=page) }}\">{{ page }}</a>\n",
    "  {% else %}\n",
    "    <strong>{{ page }}</strong>\n",
    "  {% endif %}\n",
    "{% else %}\n",
    "  <span class=ellipsis>…</span>\n",
    "{% endif %}\n",
    "{%- endfor %}\n",
    "</div>\n",
    "```\n",
    "\n",
    "**Avez-vous remarqué ?** Quand les paramètres de `url_for` ne font pas partie de la fonction de base, elles sont transformées en paramètres GET (et sont donc récupérables via `request.args` !)\n",
    "\n",
    "Ce qui avec un peu de style bootstrap :\n",
    "\n",
    "```html\n",
    "<nav aria-label=\"research-pagination\">\n",
    "  <ul class=\"pagination\">\n",
    "    {%- for page in pagination.iter_pages() %}\n",
    "        {% if page %}\n",
    "\n",
    "          {% if page != pagination.page %}\n",
    "            <li class=\"page-item\">\n",
    "                <a class=\"page-link\" href=\"{{ url_for(\"recherche\", keyword=keyword, page=page) }}\">{{page}}</a>\n",
    "            </li>\n",
    "          {% else %}\n",
    "            <li class=\"page-item active disabled\">\n",
    "              <a class=\"page-link\">{{page}} <span class=\"sr-only\">(actuelle)</span></a>\n",
    "            </li>\n",
    "          {% endif %}\n",
    "\n",
    "        {% else %}\n",
    "            <li class=\"page-item disabled\">\n",
    "              <a class=\"page-link\">...</a>\n",
    "            </li>\n",
    "        {% endif %}\n",
    "\n",
    "    {%- endfor %}\n",
    "  </ul>\n",
    "</nav>\n",
    "```\n",
    "\n",
    "#### Exemple 15\n",
    "\n",
    "On ouvrira un terminal, s'assurera d'être dans un environnement virtuel et on tapera depuis le dossier source\n",
    "\n",
    "```sh\n",
    "cd cours-flask/exemple15\n",
    "python run.py\n",
    "```\n",
    "\n",
    "#### Exercice\n",
    "\n",
    "On proposera une interface de navigation de type index via une nouvelle route de l'application. La pagination réutilisera la limite `LIEUX_PAR_PAGES` trouvée dans `gazetteer.routes`."
   ]
  }
 ],
 "metadata": {
  "kernelspec": {
   "display_name": "Python 3",
   "language": "python",
   "name": "python3"
  },
  "language_info": {
   "codemirror_mode": {
    "name": "ipython",
    "version": 3
   },
   "file_extension": ".py",
   "mimetype": "text/x-python",
   "name": "python",
   "nbconvert_exporter": "python",
   "pygments_lexer": "ipython3",
   "version": "3.6.7"
  }
 },
 "nbformat": 4,
 "nbformat_minor": 2
}
